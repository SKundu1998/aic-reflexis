{
  "cells": [
    {
      "metadata": {
        "trusted": true,
        "_uuid": "c9d84e0bbca9c92b854c34cba9e3d3f727945d01"
      },
      "cell_type": "code",
      "source": "%reload_ext autoreload\n%autoreload 2\n%matplotlib inline\n%config InlineBackend.figure_format='retina'\n\nfrom __future__ import absolute_import, division, print_function\n\nimport pandas as pd\nimport numpy as np\nfrom np import mean\nimport os\nimport csv\nimport itertools\nimport statsmodels.api as sm\nimport statsmodels.formula.api as smf\nimport statsmodels.tsa.api as smt\nfrom statsmodels.tsa.stattools import adfuller\nfrom pandas import datetime\nfrom statsmodels.tsa.statespace.sarimax import SARIMAX\nfrom statsmodels.graphics.tsaplots import plot_acf,plot_pacf\nfrom sklearn.metrics import mean_squared_error\nfrom math import sqrt\n# Display and Plotting\nimport matplotlib.pylab as plt\nimport seaborn as sns\nfrom sklearn.preprocessing import LabelEncoder, minmax_scale, MinMaxScaler\nfrom sklearn.model_selection import train_test_split\nfrom sklearn.metrics import confusion_matrix\nfrom sklearn.metrics import accuracy_score\nfrom ipywidgets import interactive, widgets, RadioButtons, ToggleButton, Select, FloatSlider, FloatRangeSlider, IntSlider, fixed\n\nprint(os.listdir(\"../input\"))\n\npd.set_option('display.float_format', lambda x: '%.5f' % x) # pandas\nnp.set_printoptions(precision=5, suppress=True) # numpy\n\npd.set_option('display.max_columns', 100)\npd.set_option('display.max_rows', 100)\n\n\nsns.set(style='ticks', context='poster')",
      "execution_count": null,
      "outputs": []
    },
    {
      "metadata": {
        "_cell_guid": "b1076dfc-b9ad-4769-8c92-a6c4dae69d19",
        "_uuid": "8f2839f25d086af736a60e9eeb907d3b93b6e0e5",
        "trusted": true
      },
      "cell_type": "code",
      "source": "def sarima_forecast(history, config):\n    order, sorder, trend = config\n    # define model\n    model = SARIMAX(history, order=order, seasonal_order=sorder, trend=trend, enforce_stationarity=False, enforce_invertibility=False)\n    model_fit = model.fit(disp=False)\n    yhat = model_fit.predict(len(history), len(history))\n    return yhat[0]",
      "execution_count": null,
      "outputs": []
    },
    {
      "metadata": {
        "_uuid": "42966ee61574761bc91ea17d9af7364e190e6130",
        "trusted": true,
        "scrolled": true
      },
      "cell_type": "code",
      "source": "def measure_rmse(actual, predicted):\n    return sqrt(mean_squared_error(actual, predicted))",
      "execution_count": null,
      "outputs": []
    },
    {
      "metadata": {
        "_uuid": "14ff9d3f58570d36c93af07a1ad3253e2e062d72",
        "scrolled": true,
        "trusted": true
      },
      "cell_type": "code",
      "source": "df = pd.read_csv('../input/BITS AIC 2019 - Reflexis Raw Dataset.csv')\ndf['DATE'] = pd.to_datetime(df['DATE'])\ndf = df.set_index(['DATE']).dropna()\n#df['SALES_ACTUAL'].plot()\ndf = df[df.index.get_level_values('DATE') != '2016-01-31']\ndf.head()",
      "execution_count": null,
      "outputs": []
    },
    {
      "metadata": {
        "trusted": true,
        "_uuid": "6a45587b98e3fa97ee2f2ee8fba5343704cd3d04"
      },
      "cell_type": "code",
      "source": "df",
      "execution_count": null,
      "outputs": []
    },
    {
      "metadata": {
        "trusted": true,
        "_uuid": "a1a04e50d0321c320968d6f13d122ee6bdbc9d3c",
        "scrolled": true
      },
      "cell_type": "code",
      "source": "#setting seasons\ndf2 = df.groupby('STORE')['SALES_ACTUAL'].resample('W').sum().reset_index()\n#df2 = df2.merge(df1.groupby('STORE')['TRAFFIC_ACTUAL'].resample('W').sum().reset_index(level=0))\n#df2\ndf2 = df2.merge(df.groupby('STORE')['TRAFFIC_ACTUAL'].resample('W').sum().reset_index())\ndf2 = df2.merge(df.groupby('STORE')['TRANSACTIONS_ACTUAL'].resample('W').sum().reset_index())\ndf2 = df2.merge(df.groupby('STORE')['MANAGER_SCHED_HOURS'].resample('W').mean().reset_index())\ndf2 = df2.merge(df.groupby('STORE')['SYSTEM_SCHED_HOURS'].resample('W').mean().reset_index())\ndf2 = df2.set_index('DATE')\ndf2",
      "execution_count": null,
      "outputs": []
    },
    {
      "metadata": {
        "_uuid": "497424e94de85dfb74eab0d1baaec2dee88cc9c7",
        "trusted": true
      },
      "cell_type": "code",
      "source": "print('Max sales = ', df['SALES_ACTUAL'].max())\nprint('Number of records =', len(df))\ndf.head()",
      "execution_count": null,
      "outputs": []
    },
    {
      "metadata": {
        "_uuid": "3c13bb956d7d2ab56ac7bf3da972b3a3852845bd",
        "trusted": true
      },
      "cell_type": "code",
      "source": "result = adfuller(X)\nprint('ADF Statistic: %f' % result[0])\nprint('p-value: %f' % result[1])\nprint('Critical Values:')\nfor key, value in result[4].items():\n    print('\\t%s: %.3f' % (key, value))",
      "execution_count": null,
      "outputs": []
    },
    {
      "metadata": {
        "_uuid": "1229d2337c9510c2454cdc9b26ac6705785510d2",
        "trusted": true,
        "scrolled": true
      },
      "cell_type": "code",
      "source": "split_date = '2018-01-01'\nX_train, Y_train, X_test, Y_test = data[data.index < split_date][['STORE','MANAGER_SCHED_HOURS','SYSTEM_SCHED_HOURS']], data[data.index < split_date]['SALES_DELTA_NORM'], data[data.index> split_date][['STORE','MANAGER_SCHED_HOURS','SYSTEM_SCHED_HOURS']], data[data.index > split_date]['SALES_DELTA_NORM']",
      "execution_count": null,
      "outputs": []
    },
    {
      "metadata": {
        "_uuid": "865fc12b612773e22d7b485be0836610de2e578b",
        "trusted": true
      },
      "cell_type": "code",
      "source": "class MetricsCheckpoint(Callback):\n    \"\"\"Callback that saves metrics after each epoch\"\"\"\n    def __init__(self, savepath):\n        super(MetricsCheckpoint, self).__init__()\n        self.savepath = savepath\n        self.history = {}\n    def on_epoch_end(self, epoch, logs=None):\n        for k, v in logs.items():\n            self.history.setdefault(k, []).append(v)\n        np.save(self.savepath, self.history)\n        \nclass MetricsCheckpoint(Callback):\n    \"\"\"Callback that saves metrics after each epoch\"\"\"\n    def __init__(self, savepath):\n        super(MetricsCheckpoint, self).__init__()\n        self.savepath = savepath\n        self.history = {}\n    def on_epoch_end(self, epoch, logs=None):\n        for k, v in logs.items():\n            self.history.setdefault(k, []).append(v)\n        np.save(self.savepath, self.history)\n\ndef plotKerasLearningCurve():\n    plt.figure(figsize=(10,5))\n    metrics = np.load('logs.npy')[()]\n    filt = ['mean_absolute_percentage_error'] # try to add 'loss' to see the loss learning curve\n    for k in filter(lambda x : np.any([kk in x for kk in filt]), metrics.keys()):\n        l = np.array(metrics[k])\n        plt.plot(l, c= 'r' if 'val' not in k else 'b', label='val' if 'val' in k else 'train')\n        x = np.argmin(l)\n        y = l[x]\n        plt.scatter(x,y, lw=0, alpha=0.25, s=100, c='r' if 'val' not in k else 'b')\n        plt.text(x, y, '{} = {:.4f}'.format(x,y), size='15', color= 'r' if 'val' not in k else 'b')   \n    plt.legend(loc=4)\n    plt.axis([0, None, None, None]);\n    plt.grid()\n    plt.xlabel('Number of epochs')\n    plt.ylabel('MAPE')\n    \ndef plot_learning_curve(history):\n    plt.figure(figsize=(8,8))\n    plt.subplot(1,2,1)\n    plt.plot(history.history['mean_absolute_percentage_error'])\n    plt.plot(history.history['val_mean_absolute_percentage_error'])\n    \"\"\"plt.plot(scalar.inverse_transform(history.history['loss']))\n    plt.plot(scalar.inverse_transform(history.history['val_loss']))\"\"\"\n    plt.title('model MAPE')\n    plt.ylabel('MAPE')\n    plt.xlabel('epoch')\n    plt.legend(['train', 'test'], loc='upper left')\n    plt.savefig('./accuracy_curve.png')\n    #plt.clf()\n    # summarize history for loss\n    plt.subplot(1,2,2)\n    plt.plot(history.history['loss'])\n    plt.plot(history.history['val_loss'])\n    plt.title('model loss')\n    plt.ylabel('loss')\n    plt.xlabel('epoch')\n    plt.legend(['train', 'test'], loc='upper left')\n    plt.savefig('./loss_curve.png')",
      "execution_count": null,
      "outputs": []
    },
    {
      "metadata": {
        "_cell_guid": "79c7e3d0-c299-4dcb-8224-4455121ee9b0",
        "_uuid": "d629ff2d2480ee46fbb7e2d37f6b5fab8052498a",
        "scrolled": true,
        "trusted": true
      },
      "cell_type": "code",
      "source": "",
      "execution_count": null,
      "outputs": []
    },
    {
      "metadata": {
        "trusted": true,
        "_uuid": "4dba402abab1030785af8ee3edf677ce367102c5"
      },
      "cell_type": "code",
      "source": "",
      "execution_count": null,
      "outputs": []
    },
    {
      "metadata": {
        "trusted": true,
        "_uuid": "58afe821d3ac1c1eca8b82d6f22b0f8369798590"
      },
      "cell_type": "code",
      "source": "",
      "execution_count": null,
      "outputs": []
    },
    {
      "metadata": {
        "_uuid": "1b7a114960d9a1e012c9fc7411f10ef6d60a9c6a",
        "scrolled": true,
        "trusted": true
      },
      "cell_type": "code",
      "source": "",
      "execution_count": null,
      "outputs": []
    },
    {
      "metadata": {
        "trusted": true,
        "_uuid": "35523a8e5f20e2907bb73f82c764bdcb2766b55e"
      },
      "cell_type": "code",
      "source": "#General scheme for feature visaulization is to iterate over all possible inputs\nstore_no = 203\nmax_input = [[[store_no, 0.0,0.0]]]\nFor i in range(24*7*4):\n    For j in range(24*7*4):\n        if (lstm_model.predict([[[store_no, float(i)/4.0, float(j)/4.0]]])[0]>lstm_model.predict(max_input)[0]):\n            max_input = [[[store_no, float(i)/4.0, float(j)/4.0]]]\n            \n",
      "execution_count": null,
      "outputs": []
    }
  ],
  "metadata": {
    "kernelspec": {
      "display_name": "Python 3",
      "language": "python",
      "name": "python3"
    },
    "language_info": {
      "name": "python",
      "version": "3.6.6",
      "mimetype": "text/x-python",
      "codemirror_mode": {
        "name": "ipython",
        "version": 3
      },
      "pygments_lexer": "ipython3",
      "nbconvert_exporter": "python",
      "file_extension": ".py"
    }
  },
  "nbformat": 4,
  "nbformat_minor": 1
}