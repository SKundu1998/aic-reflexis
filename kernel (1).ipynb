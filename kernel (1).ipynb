{
  "cells": [
    {
      "metadata": {
        "trusted": true,
        "_uuid": "c9d84e0bbca9c92b854c34cba9e3d3f727945d01"
      },
      "cell_type": "code",
      "source": "%reload_ext autoreload\n%autoreload 2\n%matplotlib inline\n%config InlineBackend.figure_format='retina'\n\nfrom __future__ import absolute_import, division, print_function\n\nimport pandas as pd\nimport numpy as np\nimport os\nimport csv\nimport itertools\nimport statsmodels.api as sm\nimport statsmodels.formula.api as smf\nimport statsmodels.tsa.api as smt\nfrom statsmodels.tsa.stattools import adfuller\nfrom pandas import datetime\nfrom statsmodels.tsa.statespace.sarimax import SARIMAX\nfrom statsmodels.graphics.tsaplots import plot_acf,plot_pacf\nfrom sklearn.metrics import mean_squared_error\nfrom math import sqrt\n# Display and Plotting\nimport matplotlib.pylab as plt\nimport seaborn as sns\nfrom sklearn.preprocessing import LabelEncoder, minmax_scale, MinMaxScaler\nfrom sklearn.model_selection import train_test_split\nfrom sklearn.metrics import confusion_matrix\nfrom sklearn.metrics import accuracy_score\nfrom ipywidgets import interactive, widgets, RadioButtons, ToggleButton, Select, FloatSlider, FloatRangeSlider, IntSlider, fixed\n\nprint(os.listdir(\"../input\"))\n\npd.set_option('display.float_format', lambda x: '%.5f' % x) # pandas\nnp.set_printoptions(precision=5, suppress=True) # numpy\n\npd.set_option('display.max_columns', 100)\npd.set_option('display.max_rows', 100)\n\n\nsns.set(style='ticks', context='poster')",
      "execution_count": 1,
      "outputs": [
        {
          "output_type": "stream",
          "text": "['BITS AIC 2019 - Reflexis Raw Dataset.csv', 'Store Attributes - Store Attributes.csv']\n",
          "name": "stdout"
        }
      ]
    },
    {
      "metadata": {
        "trusted": true,
        "_uuid": "6d2462f63d59958a0f8287022a84fec74cf216de"
      },
      "cell_type": "code",
      "source": "",
      "execution_count": null,
      "outputs": []
    },
    {
      "metadata": {
        "_cell_guid": "b1076dfc-b9ad-4769-8c92-a6c4dae69d19",
        "_uuid": "8f2839f25d086af736a60e9eeb907d3b93b6e0e5",
        "trusted": true
      },
      "cell_type": "code",
      "source": "def sarima_forecast(history, config):\n    order, sorder, trend = config\n    # define model\n    model = SARIMAX(history, order=order, seasonal_order=sorder, trend=trend, enforce_stationarity=False, enforce_invertibility=False)\n    model_fit = model.fit(disp=False)\n    yhat = model_fit.predict(len(history), len(history))\n    return yhat[0]",
      "execution_count": null,
      "outputs": []
    },
    {
      "metadata": {
        "_uuid": "42966ee61574761bc91ea17d9af7364e190e6130",
        "trusted": true,
        "scrolled": true
      },
      "cell_type": "code",
      "source": "def measure_rmse(actual, predicted):\n    return sqrt(mean_squared_error(actual, predicted))",
      "execution_count": null,
      "outputs": []
    },
    {
      "metadata": {
        "_uuid": "14ff9d3f58570d36c93af07a1ad3253e2e062d72",
        "scrolled": false,
        "trusted": true
      },
      "cell_type": "code",
      "source": "df = pd.read_csv('../input/BITS AIC 2019 - Reflexis Raw Dataset.csv')\ndf['month'] = pd.DatetimeIndex(df['DATE']).month\ndf['DATE'] = pd.to_datetime(df['DATE'])\ndf = df.set_index('month')\ndf",
      "execution_count": null,
      "outputs": []
    },
    {
      "metadata": {
        "trusted": true,
        "_uuid": "79feba9d45a42cbf42c6605e9d38888546528e61"
      },
      "cell_type": "code",
      "source": "df.dropna()",
      "execution_count": 9,
      "outputs": [
        {
          "output_type": "error",
          "ename": "AttributeError",
          "evalue": "Cannot access callable attribute 'dropna' of 'DataFrameGroupBy' objects, try using the 'apply' method",
          "traceback": [
            "\u001b[0;31m---------------------------------------------------------------------------\u001b[0m",
            "\u001b[0;31mAttributeError\u001b[0m                            Traceback (most recent call last)",
            "\u001b[0;32m<ipython-input-9-482195c7ff1f>\u001b[0m in \u001b[0;36m<module>\u001b[0;34m()\u001b[0m\n\u001b[0;32m----> 1\u001b[0;31m \u001b[0mdf\u001b[0m\u001b[0;34m.\u001b[0m\u001b[0mdropna\u001b[0m\u001b[0;34m(\u001b[0m\u001b[0;34m)\u001b[0m\u001b[0;34m\u001b[0m\u001b[0m\n\u001b[0m",
            "\u001b[0;32m/opt/conda/lib/python3.6/site-packages/pandas/core/groupby/groupby.py\u001b[0m in \u001b[0;36m__getattr__\u001b[0;34m(self, attr)\u001b[0m\n\u001b[1;32m    760\u001b[0m             \u001b[0;32mreturn\u001b[0m \u001b[0mself\u001b[0m\u001b[0;34m[\u001b[0m\u001b[0mattr\u001b[0m\u001b[0;34m]\u001b[0m\u001b[0;34m\u001b[0m\u001b[0m\n\u001b[1;32m    761\u001b[0m         \u001b[0;32mif\u001b[0m \u001b[0mhasattr\u001b[0m\u001b[0;34m(\u001b[0m\u001b[0mself\u001b[0m\u001b[0;34m.\u001b[0m\u001b[0mobj\u001b[0m\u001b[0;34m,\u001b[0m \u001b[0mattr\u001b[0m\u001b[0;34m)\u001b[0m\u001b[0;34m:\u001b[0m\u001b[0;34m\u001b[0m\u001b[0m\n\u001b[0;32m--> 762\u001b[0;31m             \u001b[0;32mreturn\u001b[0m \u001b[0mself\u001b[0m\u001b[0;34m.\u001b[0m\u001b[0m_make_wrapper\u001b[0m\u001b[0;34m(\u001b[0m\u001b[0mattr\u001b[0m\u001b[0;34m)\u001b[0m\u001b[0;34m\u001b[0m\u001b[0m\n\u001b[0m\u001b[1;32m    763\u001b[0m \u001b[0;34m\u001b[0m\u001b[0m\n\u001b[1;32m    764\u001b[0m         raise AttributeError(\"%r object has no attribute %r\" %\n",
            "\u001b[0;32m/opt/conda/lib/python3.6/site-packages/pandas/core/groupby/groupby.py\u001b[0m in \u001b[0;36m_make_wrapper\u001b[0;34m(self, name)\u001b[0m\n\u001b[1;32m    797\u001b[0m                    \"using the 'apply' method\".format(kind, name,\n\u001b[1;32m    798\u001b[0m                                                      type(self).__name__))\n\u001b[0;32m--> 799\u001b[0;31m             \u001b[0;32mraise\u001b[0m \u001b[0mAttributeError\u001b[0m\u001b[0;34m(\u001b[0m\u001b[0mmsg\u001b[0m\u001b[0;34m)\u001b[0m\u001b[0;34m\u001b[0m\u001b[0m\n\u001b[0m\u001b[1;32m    800\u001b[0m \u001b[0;34m\u001b[0m\u001b[0m\n\u001b[1;32m    801\u001b[0m         \u001b[0mself\u001b[0m\u001b[0;34m.\u001b[0m\u001b[0m_set_group_selection\u001b[0m\u001b[0;34m(\u001b[0m\u001b[0;34m)\u001b[0m\u001b[0;34m\u001b[0m\u001b[0m\n",
            "\u001b[0;31mAttributeError\u001b[0m: Cannot access callable attribute 'dropna' of 'DataFrameGroupBy' objects, try using the 'apply' method"
          ]
        }
      ]
    },
    {
      "metadata": {
        "trusted": true,
        "_uuid": "a1a04e50d0321c320968d6f13d122ee6bdbc9d3c"
      },
      "cell_type": "code",
      "source": "#setting seasons\ndf = df.groupby('month')\ndf.head()",
      "execution_count": 6,
      "outputs": [
        {
          "output_type": "execute_result",
          "execution_count": 6,
          "data": {
            "text/plain": "       STORE       DATE  TRAFFIC_ACTUAL  TRANSACTIONS_ACTUAL  SALES_ACTUAL  \\\nmonth                                                                        \n1        203 2016-01-31             180                   37    2243.07000   \n2        203 2016-02-01              49                   22     424.50000   \n2        203 2016-02-02              85                   20     878.20000   \n2        203 2016-02-03              84                   25     937.80000   \n2        203 2016-02-04              69                   13     572.70000   \n2        203 2016-02-05              53                    8     384.50000   \n3        203 2016-03-01              99                   24     890.80000   \n3        203 2016-03-02              99                   25    1197.95000   \n3        203 2016-03-03              80                   32    1247.95000   \n3        203 2016-03-04             122                   39    1315.28000   \n3        203 2016-03-05             319                   72    2075.27000   \n4        203 2016-04-01              97                   28    1100.50000   \n4        203 2016-04-02             256                   44    2510.37000   \n4        203 2016-04-03             149                   26    2196.90000   \n4        203 2016-04-04              37                   10     549.75000   \n4        203 2016-04-05              68                   14     680.00000   \n5        203 2016-05-01             157                   31    2116.42000   \n5        203 2016-05-02              85                   22    1450.38000   \n5        203 2016-05-03             102                   33    1918.26000   \n5        203 2016-05-04             100                   27    1870.66000   \n5        203 2016-05-05             173                   56    2865.32000   \n6        203 2016-06-01              59                   11     446.20000   \n6        203 2016-06-02              63                   26    1166.32000   \n6        203 2016-06-03             111                   34    1964.99000   \n6        203 2016-06-04             162                   49    1471.96000   \n6        203 2016-06-05             162                   48    2221.26000   \n7        203 2016-07-01             154                   49    2508.67000   \n7        203 2016-07-02             170                   48    2783.52000   \n7        203 2016-07-03             113                   32    1274.62000   \n7        203 2016-07-04             106                   22    1033.22000   \n7        203 2016-07-05             162                   33    1278.69000   \n8        203 2016-08-01             149                   26    1696.92000   \n8        203 2016-08-02             201                   34    1529.58000   \n8        203 2016-08-03             124                   17     440.00000   \n8        203 2016-08-04             202                   56    3821.28000   \n8        203 2016-08-05             184                   48    2691.08000   \n9        203 2016-09-01             224                   43    1086.48000   \n9        203 2016-09-02             258                   72    2756.79000   \n9        203 2016-09-03             300                   56    2614.47000   \n9        203 2016-09-04             242                   51    1934.20000   \n9        203 2016-09-05             486                   92    4746.75000   \n10       203 2016-10-01             229                   31     713.25000   \n10       203 2016-10-02             131                    9     268.80000   \n10       203 2016-10-03              52                    9     199.50000   \n10       203 2016-10-04              55                    8     528.00000   \n10       203 2016-10-05              60                    8     246.00000   \n11       203 2016-11-01              61                    9     666.20000   \n11       203 2016-11-02              64                   15     233.34000   \n11       203 2016-11-03              76                   17     333.28000   \n11       203 2016-11-04             105                   17    1172.90000   \n11       203 2016-11-05             241                   36    1632.35000   \n12       203 2016-12-01              91                   30    1730.98000   \n12       203 2016-12-02             156                   48    2095.62000   \n12       203 2016-12-03             355                   89    3984.13000   \n12       203 2016-12-04             206                   58    2896.05000   \n12       203 2016-12-05             168                   54    2840.11000   \n1        203 2017-01-01             131                   32      -2.97000   \n1        203 2017-01-02             267                   56     890.32000   \n1        203 2017-01-03              88                   29     -19.85000   \n1        203 2017-01-04              98                   31    1016.25000   \n\n       MANAGER_SCHED_HOURS  SYSTEM_SCHED_HOURS  \nmonth                                           \n1                 26.00000            20.50000  \n2                 28.50000            29.75000  \n2                 31.50000            25.50000  \n2                 25.50000            27.50000  \n2                 25.75000            27.25000  \n2                 30.25000            31.50000  \n3                 24.50000            23.50000  \n3                 24.00000            24.50000  \n3                 26.50000            24.75000  \n3                 26.25000            28.75000  \n3                 32.50000            30.00000  \n4                 28.50000            44.50000  \n4                 36.50000            42.00000  \n4                 20.00000            23.00000  \n4                 23.75000            23.75000  \n4                 24.50000            24.25000  \n5                 21.00000            16.00000  \n5                 24.00000            27.25000  \n5                 24.00000            24.00000  \n5                 23.75000            28.25000  \n5                 24.25000            32.25000  \n6                 24.50000            24.00000  \n6                 23.00000            23.00000  \n6                 23.50000            23.50000  \n6                 28.00000            35.75000  \n6                 20.50000            24.00000  \n7                 24.50000            27.50000  \n7                 30.50000            30.00000  \n7                 17.50000            29.75000  \n7                 22.50000            29.00000  \n7                 25.00000            27.00000  \n8                 24.00000            24.75000  \n8                 24.00000            29.50000  \n8                 24.00000            24.75000  \n8                 42.00000            22.50000  \n8                 37.50000            23.00000  \n9                 24.00000            16.50000  \n9                 22.50000            13.50000  \n9                 25.50000            28.00000  \n9                 21.00000            19.75000  \n9                 22.00000            28.00000  \n10                26.50000            30.00000  \n10                18.00000            17.75000  \n10                23.00000            22.25000  \n10                22.00000            16.50000  \n10                23.50000            15.50000  \n11                23.00000            20.25000  \n11                22.50000            15.50000  \n11                22.50000            18.50000  \n11                22.25000            22.25000  \n11                27.25000            30.50000  \n12                24.00000            22.50000  \n12                27.00000            22.25000  \n12                33.50000            33.50000  \n12                36.00000            20.00000  \n12                26.00000            18.25000  \n1                 18.50000            26.75000  \n1                 25.00000            21.00000  \n1                 33.00000            22.00000  \n1                 20.50000            24.75000  ",
            "text/html": "<div>\n<style scoped>\n    .dataframe tbody tr th:only-of-type {\n        vertical-align: middle;\n    }\n\n    .dataframe tbody tr th {\n        vertical-align: top;\n    }\n\n    .dataframe thead th {\n        text-align: right;\n    }\n</style>\n<table border=\"1\" class=\"dataframe\">\n  <thead>\n    <tr style=\"text-align: right;\">\n      <th></th>\n      <th>STORE</th>\n      <th>DATE</th>\n      <th>TRAFFIC_ACTUAL</th>\n      <th>TRANSACTIONS_ACTUAL</th>\n      <th>SALES_ACTUAL</th>\n      <th>MANAGER_SCHED_HOURS</th>\n      <th>SYSTEM_SCHED_HOURS</th>\n    </tr>\n    <tr>\n      <th>month</th>\n      <th></th>\n      <th></th>\n      <th></th>\n      <th></th>\n      <th></th>\n      <th></th>\n      <th></th>\n    </tr>\n  </thead>\n  <tbody>\n    <tr>\n      <th>1</th>\n      <td>203</td>\n      <td>2016-01-31</td>\n      <td>180</td>\n      <td>37</td>\n      <td>2243.07000</td>\n      <td>26.00000</td>\n      <td>20.50000</td>\n    </tr>\n    <tr>\n      <th>2</th>\n      <td>203</td>\n      <td>2016-02-01</td>\n      <td>49</td>\n      <td>22</td>\n      <td>424.50000</td>\n      <td>28.50000</td>\n      <td>29.75000</td>\n    </tr>\n    <tr>\n      <th>2</th>\n      <td>203</td>\n      <td>2016-02-02</td>\n      <td>85</td>\n      <td>20</td>\n      <td>878.20000</td>\n      <td>31.50000</td>\n      <td>25.50000</td>\n    </tr>\n    <tr>\n      <th>2</th>\n      <td>203</td>\n      <td>2016-02-03</td>\n      <td>84</td>\n      <td>25</td>\n      <td>937.80000</td>\n      <td>25.50000</td>\n      <td>27.50000</td>\n    </tr>\n    <tr>\n      <th>2</th>\n      <td>203</td>\n      <td>2016-02-04</td>\n      <td>69</td>\n      <td>13</td>\n      <td>572.70000</td>\n      <td>25.75000</td>\n      <td>27.25000</td>\n    </tr>\n    <tr>\n      <th>2</th>\n      <td>203</td>\n      <td>2016-02-05</td>\n      <td>53</td>\n      <td>8</td>\n      <td>384.50000</td>\n      <td>30.25000</td>\n      <td>31.50000</td>\n    </tr>\n    <tr>\n      <th>3</th>\n      <td>203</td>\n      <td>2016-03-01</td>\n      <td>99</td>\n      <td>24</td>\n      <td>890.80000</td>\n      <td>24.50000</td>\n      <td>23.50000</td>\n    </tr>\n    <tr>\n      <th>3</th>\n      <td>203</td>\n      <td>2016-03-02</td>\n      <td>99</td>\n      <td>25</td>\n      <td>1197.95000</td>\n      <td>24.00000</td>\n      <td>24.50000</td>\n    </tr>\n    <tr>\n      <th>3</th>\n      <td>203</td>\n      <td>2016-03-03</td>\n      <td>80</td>\n      <td>32</td>\n      <td>1247.95000</td>\n      <td>26.50000</td>\n      <td>24.75000</td>\n    </tr>\n    <tr>\n      <th>3</th>\n      <td>203</td>\n      <td>2016-03-04</td>\n      <td>122</td>\n      <td>39</td>\n      <td>1315.28000</td>\n      <td>26.25000</td>\n      <td>28.75000</td>\n    </tr>\n    <tr>\n      <th>3</th>\n      <td>203</td>\n      <td>2016-03-05</td>\n      <td>319</td>\n      <td>72</td>\n      <td>2075.27000</td>\n      <td>32.50000</td>\n      <td>30.00000</td>\n    </tr>\n    <tr>\n      <th>4</th>\n      <td>203</td>\n      <td>2016-04-01</td>\n      <td>97</td>\n      <td>28</td>\n      <td>1100.50000</td>\n      <td>28.50000</td>\n      <td>44.50000</td>\n    </tr>\n    <tr>\n      <th>4</th>\n      <td>203</td>\n      <td>2016-04-02</td>\n      <td>256</td>\n      <td>44</td>\n      <td>2510.37000</td>\n      <td>36.50000</td>\n      <td>42.00000</td>\n    </tr>\n    <tr>\n      <th>4</th>\n      <td>203</td>\n      <td>2016-04-03</td>\n      <td>149</td>\n      <td>26</td>\n      <td>2196.90000</td>\n      <td>20.00000</td>\n      <td>23.00000</td>\n    </tr>\n    <tr>\n      <th>4</th>\n      <td>203</td>\n      <td>2016-04-04</td>\n      <td>37</td>\n      <td>10</td>\n      <td>549.75000</td>\n      <td>23.75000</td>\n      <td>23.75000</td>\n    </tr>\n    <tr>\n      <th>4</th>\n      <td>203</td>\n      <td>2016-04-05</td>\n      <td>68</td>\n      <td>14</td>\n      <td>680.00000</td>\n      <td>24.50000</td>\n      <td>24.25000</td>\n    </tr>\n    <tr>\n      <th>5</th>\n      <td>203</td>\n      <td>2016-05-01</td>\n      <td>157</td>\n      <td>31</td>\n      <td>2116.42000</td>\n      <td>21.00000</td>\n      <td>16.00000</td>\n    </tr>\n    <tr>\n      <th>5</th>\n      <td>203</td>\n      <td>2016-05-02</td>\n      <td>85</td>\n      <td>22</td>\n      <td>1450.38000</td>\n      <td>24.00000</td>\n      <td>27.25000</td>\n    </tr>\n    <tr>\n      <th>5</th>\n      <td>203</td>\n      <td>2016-05-03</td>\n      <td>102</td>\n      <td>33</td>\n      <td>1918.26000</td>\n      <td>24.00000</td>\n      <td>24.00000</td>\n    </tr>\n    <tr>\n      <th>5</th>\n      <td>203</td>\n      <td>2016-05-04</td>\n      <td>100</td>\n      <td>27</td>\n      <td>1870.66000</td>\n      <td>23.75000</td>\n      <td>28.25000</td>\n    </tr>\n    <tr>\n      <th>5</th>\n      <td>203</td>\n      <td>2016-05-05</td>\n      <td>173</td>\n      <td>56</td>\n      <td>2865.32000</td>\n      <td>24.25000</td>\n      <td>32.25000</td>\n    </tr>\n    <tr>\n      <th>6</th>\n      <td>203</td>\n      <td>2016-06-01</td>\n      <td>59</td>\n      <td>11</td>\n      <td>446.20000</td>\n      <td>24.50000</td>\n      <td>24.00000</td>\n    </tr>\n    <tr>\n      <th>6</th>\n      <td>203</td>\n      <td>2016-06-02</td>\n      <td>63</td>\n      <td>26</td>\n      <td>1166.32000</td>\n      <td>23.00000</td>\n      <td>23.00000</td>\n    </tr>\n    <tr>\n      <th>6</th>\n      <td>203</td>\n      <td>2016-06-03</td>\n      <td>111</td>\n      <td>34</td>\n      <td>1964.99000</td>\n      <td>23.50000</td>\n      <td>23.50000</td>\n    </tr>\n    <tr>\n      <th>6</th>\n      <td>203</td>\n      <td>2016-06-04</td>\n      <td>162</td>\n      <td>49</td>\n      <td>1471.96000</td>\n      <td>28.00000</td>\n      <td>35.75000</td>\n    </tr>\n    <tr>\n      <th>6</th>\n      <td>203</td>\n      <td>2016-06-05</td>\n      <td>162</td>\n      <td>48</td>\n      <td>2221.26000</td>\n      <td>20.50000</td>\n      <td>24.00000</td>\n    </tr>\n    <tr>\n      <th>7</th>\n      <td>203</td>\n      <td>2016-07-01</td>\n      <td>154</td>\n      <td>49</td>\n      <td>2508.67000</td>\n      <td>24.50000</td>\n      <td>27.50000</td>\n    </tr>\n    <tr>\n      <th>7</th>\n      <td>203</td>\n      <td>2016-07-02</td>\n      <td>170</td>\n      <td>48</td>\n      <td>2783.52000</td>\n      <td>30.50000</td>\n      <td>30.00000</td>\n    </tr>\n    <tr>\n      <th>7</th>\n      <td>203</td>\n      <td>2016-07-03</td>\n      <td>113</td>\n      <td>32</td>\n      <td>1274.62000</td>\n      <td>17.50000</td>\n      <td>29.75000</td>\n    </tr>\n    <tr>\n      <th>7</th>\n      <td>203</td>\n      <td>2016-07-04</td>\n      <td>106</td>\n      <td>22</td>\n      <td>1033.22000</td>\n      <td>22.50000</td>\n      <td>29.00000</td>\n    </tr>\n    <tr>\n      <th>7</th>\n      <td>203</td>\n      <td>2016-07-05</td>\n      <td>162</td>\n      <td>33</td>\n      <td>1278.69000</td>\n      <td>25.00000</td>\n      <td>27.00000</td>\n    </tr>\n    <tr>\n      <th>8</th>\n      <td>203</td>\n      <td>2016-08-01</td>\n      <td>149</td>\n      <td>26</td>\n      <td>1696.92000</td>\n      <td>24.00000</td>\n      <td>24.75000</td>\n    </tr>\n    <tr>\n      <th>8</th>\n      <td>203</td>\n      <td>2016-08-02</td>\n      <td>201</td>\n      <td>34</td>\n      <td>1529.58000</td>\n      <td>24.00000</td>\n      <td>29.50000</td>\n    </tr>\n    <tr>\n      <th>8</th>\n      <td>203</td>\n      <td>2016-08-03</td>\n      <td>124</td>\n      <td>17</td>\n      <td>440.00000</td>\n      <td>24.00000</td>\n      <td>24.75000</td>\n    </tr>\n    <tr>\n      <th>8</th>\n      <td>203</td>\n      <td>2016-08-04</td>\n      <td>202</td>\n      <td>56</td>\n      <td>3821.28000</td>\n      <td>42.00000</td>\n      <td>22.50000</td>\n    </tr>\n    <tr>\n      <th>8</th>\n      <td>203</td>\n      <td>2016-08-05</td>\n      <td>184</td>\n      <td>48</td>\n      <td>2691.08000</td>\n      <td>37.50000</td>\n      <td>23.00000</td>\n    </tr>\n    <tr>\n      <th>9</th>\n      <td>203</td>\n      <td>2016-09-01</td>\n      <td>224</td>\n      <td>43</td>\n      <td>1086.48000</td>\n      <td>24.00000</td>\n      <td>16.50000</td>\n    </tr>\n    <tr>\n      <th>9</th>\n      <td>203</td>\n      <td>2016-09-02</td>\n      <td>258</td>\n      <td>72</td>\n      <td>2756.79000</td>\n      <td>22.50000</td>\n      <td>13.50000</td>\n    </tr>\n    <tr>\n      <th>9</th>\n      <td>203</td>\n      <td>2016-09-03</td>\n      <td>300</td>\n      <td>56</td>\n      <td>2614.47000</td>\n      <td>25.50000</td>\n      <td>28.00000</td>\n    </tr>\n    <tr>\n      <th>9</th>\n      <td>203</td>\n      <td>2016-09-04</td>\n      <td>242</td>\n      <td>51</td>\n      <td>1934.20000</td>\n      <td>21.00000</td>\n      <td>19.75000</td>\n    </tr>\n    <tr>\n      <th>9</th>\n      <td>203</td>\n      <td>2016-09-05</td>\n      <td>486</td>\n      <td>92</td>\n      <td>4746.75000</td>\n      <td>22.00000</td>\n      <td>28.00000</td>\n    </tr>\n    <tr>\n      <th>10</th>\n      <td>203</td>\n      <td>2016-10-01</td>\n      <td>229</td>\n      <td>31</td>\n      <td>713.25000</td>\n      <td>26.50000</td>\n      <td>30.00000</td>\n    </tr>\n    <tr>\n      <th>10</th>\n      <td>203</td>\n      <td>2016-10-02</td>\n      <td>131</td>\n      <td>9</td>\n      <td>268.80000</td>\n      <td>18.00000</td>\n      <td>17.75000</td>\n    </tr>\n    <tr>\n      <th>10</th>\n      <td>203</td>\n      <td>2016-10-03</td>\n      <td>52</td>\n      <td>9</td>\n      <td>199.50000</td>\n      <td>23.00000</td>\n      <td>22.25000</td>\n    </tr>\n    <tr>\n      <th>10</th>\n      <td>203</td>\n      <td>2016-10-04</td>\n      <td>55</td>\n      <td>8</td>\n      <td>528.00000</td>\n      <td>22.00000</td>\n      <td>16.50000</td>\n    </tr>\n    <tr>\n      <th>10</th>\n      <td>203</td>\n      <td>2016-10-05</td>\n      <td>60</td>\n      <td>8</td>\n      <td>246.00000</td>\n      <td>23.50000</td>\n      <td>15.50000</td>\n    </tr>\n    <tr>\n      <th>11</th>\n      <td>203</td>\n      <td>2016-11-01</td>\n      <td>61</td>\n      <td>9</td>\n      <td>666.20000</td>\n      <td>23.00000</td>\n      <td>20.25000</td>\n    </tr>\n    <tr>\n      <th>11</th>\n      <td>203</td>\n      <td>2016-11-02</td>\n      <td>64</td>\n      <td>15</td>\n      <td>233.34000</td>\n      <td>22.50000</td>\n      <td>15.50000</td>\n    </tr>\n    <tr>\n      <th>11</th>\n      <td>203</td>\n      <td>2016-11-03</td>\n      <td>76</td>\n      <td>17</td>\n      <td>333.28000</td>\n      <td>22.50000</td>\n      <td>18.50000</td>\n    </tr>\n    <tr>\n      <th>11</th>\n      <td>203</td>\n      <td>2016-11-04</td>\n      <td>105</td>\n      <td>17</td>\n      <td>1172.90000</td>\n      <td>22.25000</td>\n      <td>22.25000</td>\n    </tr>\n    <tr>\n      <th>11</th>\n      <td>203</td>\n      <td>2016-11-05</td>\n      <td>241</td>\n      <td>36</td>\n      <td>1632.35000</td>\n      <td>27.25000</td>\n      <td>30.50000</td>\n    </tr>\n    <tr>\n      <th>12</th>\n      <td>203</td>\n      <td>2016-12-01</td>\n      <td>91</td>\n      <td>30</td>\n      <td>1730.98000</td>\n      <td>24.00000</td>\n      <td>22.50000</td>\n    </tr>\n    <tr>\n      <th>12</th>\n      <td>203</td>\n      <td>2016-12-02</td>\n      <td>156</td>\n      <td>48</td>\n      <td>2095.62000</td>\n      <td>27.00000</td>\n      <td>22.25000</td>\n    </tr>\n    <tr>\n      <th>12</th>\n      <td>203</td>\n      <td>2016-12-03</td>\n      <td>355</td>\n      <td>89</td>\n      <td>3984.13000</td>\n      <td>33.50000</td>\n      <td>33.50000</td>\n    </tr>\n    <tr>\n      <th>12</th>\n      <td>203</td>\n      <td>2016-12-04</td>\n      <td>206</td>\n      <td>58</td>\n      <td>2896.05000</td>\n      <td>36.00000</td>\n      <td>20.00000</td>\n    </tr>\n    <tr>\n      <th>12</th>\n      <td>203</td>\n      <td>2016-12-05</td>\n      <td>168</td>\n      <td>54</td>\n      <td>2840.11000</td>\n      <td>26.00000</td>\n      <td>18.25000</td>\n    </tr>\n    <tr>\n      <th>1</th>\n      <td>203</td>\n      <td>2017-01-01</td>\n      <td>131</td>\n      <td>32</td>\n      <td>-2.97000</td>\n      <td>18.50000</td>\n      <td>26.75000</td>\n    </tr>\n    <tr>\n      <th>1</th>\n      <td>203</td>\n      <td>2017-01-02</td>\n      <td>267</td>\n      <td>56</td>\n      <td>890.32000</td>\n      <td>25.00000</td>\n      <td>21.00000</td>\n    </tr>\n    <tr>\n      <th>1</th>\n      <td>203</td>\n      <td>2017-01-03</td>\n      <td>88</td>\n      <td>29</td>\n      <td>-19.85000</td>\n      <td>33.00000</td>\n      <td>22.00000</td>\n    </tr>\n    <tr>\n      <th>1</th>\n      <td>203</td>\n      <td>2017-01-04</td>\n      <td>98</td>\n      <td>31</td>\n      <td>1016.25000</td>\n      <td>20.50000</td>\n      <td>24.75000</td>\n    </tr>\n  </tbody>\n</table>\n</div>"
          },
          "metadata": {}
        }
      ]
    },
    {
      "metadata": {
        "trusted": true,
        "scrolled": true,
        "_uuid": "e8e750a434c05363beead2021707364a3c00c51f"
      },
      "cell_type": "code",
      "source": "",
      "execution_count": null,
      "outputs": []
    },
    {
      "metadata": {
        "_uuid": "497424e94de85dfb74eab0d1baaec2dee88cc9c7",
        "trusted": true
      },
      "cell_type": "code",
      "source": "print('Max sales = ', df['SALES_ACTUAL'].max())\nprint('Number of records =', len(df))\ndf.head()",
      "execution_count": null,
      "outputs": []
    },
    {
      "metadata": {
        "_uuid": "3c13bb956d7d2ab56ac7bf3da972b3a3852845bd",
        "trusted": true
      },
      "cell_type": "code",
      "source": "result = adfuller(X)\nprint('ADF Statistic: %f' % result[0])\nprint('p-value: %f' % result[1])\nprint('Critical Values:')\nfor key, value in result[4].items():\n    print('\\t%s: %.3f' % (key, value))",
      "execution_count": null,
      "outputs": []
    },
    {
      "metadata": {
        "_uuid": "1229d2337c9510c2454cdc9b26ac6705785510d2",
        "trusted": true,
        "scrolled": true
      },
      "cell_type": "code",
      "source": "#Test and training split\nX_train, X_test, Y_train, Y_test = train_test_split(data[['STORE','MANAGER_SCHED_HOURS','SYSTEM_SCHED_HOURS']],data['SALES_ACTUAL'], shuffle=False)",
      "execution_count": null,
      "outputs": []
    },
    {
      "metadata": {
        "_uuid": "865fc12b612773e22d7b485be0836610de2e578b",
        "trusted": true
      },
      "cell_type": "code",
      "source": "class MetricsCheckpoint(Callback):\n    \"\"\"Callback that saves metrics after each epoch\"\"\"\n    def __init__(self, savepath):\n        super(MetricsCheckpoint, self).__init__()\n        self.savepath = savepath\n        self.history = {}\n    def on_epoch_end(self, epoch, logs=None):\n        for k, v in logs.items():\n            self.history.setdefault(k, []).append(v)\n        np.save(self.savepath, self.history)\n        \nclass MetricsCheckpoint(Callback):\n    \"\"\"Callback that saves metrics after each epoch\"\"\"\n    def __init__(self, savepath):\n        super(MetricsCheckpoint, self).__init__()\n        self.savepath = savepath\n        self.history = {}\n    def on_epoch_end(self, epoch, logs=None):\n        for k, v in logs.items():\n            self.history.setdefault(k, []).append(v)\n        np.save(self.savepath, self.history)\n\ndef plotKerasLearningCurve():\n    plt.figure(figsize=(10,5))\n    metrics = np.load('logs.npy')[()]\n    filt = ['mean_absolute_percentage_error'] # try to add 'loss' to see the loss learning curve\n    for k in filter(lambda x : np.any([kk in x for kk in filt]), metrics.keys()):\n        l = np.array(metrics[k])\n        plt.plot(l, c= 'r' if 'val' not in k else 'b', label='val' if 'val' in k else 'train')\n        x = np.argmin(l)\n        y = l[x]\n        plt.scatter(x,y, lw=0, alpha=0.25, s=100, c='r' if 'val' not in k else 'b')\n        plt.text(x, y, '{} = {:.4f}'.format(x,y), size='15', color= 'r' if 'val' not in k else 'b')   \n    plt.legend(loc=4)\n    plt.axis([0, None, None, None]);\n    plt.grid()\n    plt.xlabel('Number of epochs')\n    plt.ylabel('MAPE')\n    \ndef plot_learning_curve(history):\n    plt.figure(figsize=(8,8))\n    plt.subplot(1,2,1)\n    plt.plot(history.history['mean_absolute_percentage_error'])\n    plt.plot(history.history['val_mean_absolute_percentage_error'])\n    \"\"\"plt.plot(scalar.inverse_transform(history.history['loss']))\n    plt.plot(scalar.inverse_transform(history.history['val_loss']))\"\"\"\n    plt.title('model MAPE')\n    plt.ylabel('MAPE')\n    plt.xlabel('epoch')\n    plt.legend(['train', 'test'], loc='upper left')\n    plt.savefig('./accuracy_curve.png')\n    #plt.clf()\n    # summarize history for loss\n    plt.subplot(1,2,2)\n    plt.plot(history.history['loss'])\n    plt.plot(history.history['val_loss'])\n    plt.title('model loss')\n    plt.ylabel('loss')\n    plt.xlabel('epoch')\n    plt.legend(['train', 'test'], loc='upper left')\n    plt.savefig('./loss_curve.png')",
      "execution_count": null,
      "outputs": []
    },
    {
      "metadata": {
        "_cell_guid": "79c7e3d0-c299-4dcb-8224-4455121ee9b0",
        "_uuid": "d629ff2d2480ee46fbb7e2d37f6b5fab8052498a",
        "scrolled": true,
        "trusted": true
      },
      "cell_type": "code",
      "source": "",
      "execution_count": null,
      "outputs": []
    },
    {
      "metadata": {
        "trusted": true,
        "_uuid": "4dba402abab1030785af8ee3edf677ce367102c5"
      },
      "cell_type": "code",
      "source": "",
      "execution_count": null,
      "outputs": []
    },
    {
      "metadata": {
        "trusted": true,
        "_uuid": "58afe821d3ac1c1eca8b82d6f22b0f8369798590"
      },
      "cell_type": "code",
      "source": "",
      "execution_count": null,
      "outputs": []
    },
    {
      "metadata": {
        "_uuid": "1b7a114960d9a1e012c9fc7411f10ef6d60a9c6a",
        "scrolled": true,
        "trusted": true
      },
      "cell_type": "code",
      "source": "",
      "execution_count": null,
      "outputs": []
    },
    {
      "metadata": {
        "trusted": true,
        "_uuid": "35523a8e5f20e2907bb73f82c764bdcb2766b55e"
      },
      "cell_type": "code",
      "source": "#General scheme for feature visaulization is to iterate over all possible inputs\nstore_no = 203\nmax_input = [[[store_no, 0.0,0.0]]]\nFor i in range(24*7*4):\n    For j in range(24*7*4):\n        if (lstm_model.predict([[[store_no, float(i)/4.0, float(j)/4.0]]])[0]>lstm_model.predict(max_input)[0]):\n            max_input = [[[store_no, float(i)/4.0, float(j)/4.0]]]\n            \n",
      "execution_count": null,
      "outputs": []
    }
  ],
  "metadata": {
    "kernelspec": {
      "display_name": "Python 3",
      "language": "python",
      "name": "python3"
    },
    "language_info": {
      "name": "python",
      "version": "3.6.6",
      "mimetype": "text/x-python",
      "codemirror_mode": {
        "name": "ipython",
        "version": 3
      },
      "pygments_lexer": "ipython3",
      "nbconvert_exporter": "python",
      "file_extension": ".py"
    }
  },
  "nbformat": 4,
  "nbformat_minor": 1
}